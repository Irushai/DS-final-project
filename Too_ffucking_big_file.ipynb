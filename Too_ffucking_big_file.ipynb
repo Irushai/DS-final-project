{
  "nbformat": 4,
  "nbformat_minor": 0,
  "metadata": {
    "colab": {
      "provenance": [],
      "authorship_tag": "ABX9TyMcSbnn6VGUUIcng4SALrre",
      "include_colab_link": true
    },
    "kernelspec": {
      "name": "python3",
      "display_name": "Python 3"
    },
    "language_info": {
      "name": "python"
    }
  },
  "cells": [
    {
      "cell_type": "markdown",
      "metadata": {
        "id": "view-in-github",
        "colab_type": "text"
      },
      "source": [
        "<a href=\"https://colab.research.google.com/github/Irushai/DS-final-project/blob/main/Too_ffucking_big_file.ipynb\" target=\"_parent\"><img src=\"https://colab.research.google.com/assets/colab-badge.svg\" alt=\"Open In Colab\"/></a>"
      ]
    },
    {
      "cell_type": "markdown",
      "source": [
        "## **🚀 How to Use Your Local Dataset in Google Colab**\n",
        "Since you already have a dataset, you need to upload it to Google Colab and use it in your code.\n",
        "\n",
        "### ✅ Option 1: Upload Directly in Colab\n",
        "\n",
        "\n",
        "\n",
        "1.   Open Google Colab.\n",
        "2.   Run the following code to upload files manually:\n",
        "\n",
        "\n",
        "\n"
      ],
      "metadata": {
        "id": "0dQ03eYnZf45"
      }
    },
    {
      "cell_type": "code",
      "source": [
        "from google.colab import files\n",
        "uploaded = files.upload()\n"
      ],
      "metadata": {
        "id": "6VG3-j4mZ17u"
      },
      "execution_count": null,
      "outputs": []
    },
    {
      "cell_type": "markdown",
      "source": [
        "\n",
        "\n",
        "3.   A pop-up will appear—select your dataset files (or ZIP file).\n",
        "\n"
      ],
      "metadata": {
        "id": "w2l7BQY6Z4wP"
      }
    },
    {
      "cell_type": "markdown",
      "source": [
        "### ✅ Option 2: Mount Google Drive (For Large Datasets)\n",
        "\n",
        "If your dataset is big, it's better to use Google Drive:\n",
        "1.   Upload your dataset to Google Drive (e.g., /MyDrive/Datasets).\n",
        "2.   Mount Google Drive in Colab:\n"
      ],
      "metadata": {
        "id": "GvPVt3xZaLzv"
      }
    },
    {
      "cell_type": "code",
      "source": [
        "from google.colab import drive\n",
        "drive.mount('/content/drive')\n"
      ],
      "metadata": {
        "id": "Tnzms7goa-8J"
      },
      "execution_count": null,
      "outputs": []
    },
    {
      "cell_type": "markdown",
      "source": [
        "3. Now, your dataset is available at:"
      ],
      "metadata": {
        "id": "W7NmfjPnbBzf"
      }
    },
    {
      "cell_type": "code",
      "source": [
        "/content/drive/MyDrive/Datasets\n"
      ],
      "metadata": {
        "id": "Pz6dZ9h9awt3"
      },
      "execution_count": null,
      "outputs": []
    },
    {
      "cell_type": "markdown",
      "source": [
        "### ✅ Option 3: Use scp (For Remote Datasets)\n",
        "If your dataset is on a remote machine (e.g., your local PC or server), use scp to transfer it to Colab."
      ],
      "metadata": {
        "id": "6vJZOmKqbK13"
      }
    },
    {
      "cell_type": "markdown",
      "source": [
        "### 🔄 Loading the Dataset in Code\n",
        "Once the dataset is uploaded:\n",
        "\n",
        "\n",
        "1.   If it’s a ZIP file, unzip it first:\n",
        "\n",
        "\n",
        "\n"
      ],
      "metadata": {
        "id": "fojr5maGbXf3"
      }
    },
    {
      "cell_type": "code",
      "source": [
        "!unzip /content/train.zip -d /content/dataset\n"
      ],
      "metadata": {
        "id": "k_QSXqmPbj7K"
      },
      "execution_count": null,
      "outputs": []
    },
    {
      "cell_type": "markdown",
      "source": [
        "2. Now, use the dataset path in your code:"
      ],
      "metadata": {
        "id": "DS-jJXhMblJf"
      }
    },
    {
      "cell_type": "code",
      "source": [
        "image_dir = \"/content/dataset/train/images\"\n",
        "mask_dir = \"/content/dataset/train/masks\"\n"
      ],
      "metadata": {
        "id": "UmwN2J-jbspg"
      },
      "execution_count": null,
      "outputs": []
    },
    {
      "cell_type": "markdown",
      "source": [
        "## *If your dataset is **toooo big** to upload directly to Google Drive, here are alternative solutions:*\n",
        "\n",
        "##✅ Solution 1:\n",
        "Use Google Colab's gdown to Download from a URL\n",
        "If you can upload your dataset somewhere online (e.g., Google Drive, Dropbox, or a file hosting service), you can download it directly in Colab.\n",
        "\n",
        "Steps:\n",
        "\n",
        "\n",
        "1.   Upload your dataset to Google Drive manually and get a shareable link.\n",
        "2.   Extract the file ID from the link:\n",
        "\n"
      ],
      "metadata": {
        "id": "lStQktw8bwhf"
      }
    },
    {
      "cell_type": "code",
      "source": [
        "https://drive.google.com/file/d/FILE_ID/view?usp=sharing\n"
      ],
      "metadata": {
        "id": "TK_gkXCObRy2"
      },
      "execution_count": null,
      "outputs": []
    },
    {
      "cell_type": "markdown",
      "source": [
        "3. Use gdown in Colab to download:"
      ],
      "metadata": {
        "id": "_ou66udLdNaI"
      }
    },
    {
      "cell_type": "code",
      "source": [
        "!pip install gdown\n",
        "!gdown --id FILE_ID -O dataset.zip\n",
        "!unzip dataset.zip -d /content/dataset\n"
      ],
      "metadata": {
        "id": "1RK_HRtedUoL"
      },
      "execution_count": null,
      "outputs": []
    },
    {
      "cell_type": "markdown",
      "source": [
        "## ✅ Solution 2: Use rsync or scp to Transfer from Your Local PC to Colab\n",
        "If your dataset is stored on your local computer, you can transfer it via SSH.\n",
        "\n",
        "Steps:\n",
        "1. Open your terminal (on your local machine).\n",
        "\n",
        "2. Run the following command to copy the dataset:"
      ],
      "metadata": {
        "id": "4Gg30blHdcVI"
      }
    },
    {
      "cell_type": "code",
      "source": [
        "scp -r /path/to/your/dataset your_google_colab_vm:/content/\n"
      ],
      "metadata": {
        "id": "9hBsfJXidmAc"
      },
      "execution_count": null,
      "outputs": []
    },
    {
      "cell_type": "markdown",
      "source": [
        "(You need to set up SSH access first.)"
      ],
      "metadata": {
        "id": "wFVsH-mjdo_x"
      }
    },
    {
      "cell_type": "markdown",
      "source": [
        "## ✅ Solution 3: Mount a Cloud Storage Bucket (Best for Large Datasets)\n",
        "For huge datasets (10GB+), use Google Cloud Storage (GCS):\n",
        "\n",
        "Steps:\n",
        "1. Upload your dataset to Google Cloud Storage manually.\n",
        "\n",
        "2. In Colab, install and authenticate gcsfuse:"
      ],
      "metadata": {
        "id": "klvD3d_ydwKO"
      }
    },
    {
      "cell_type": "code",
      "source": [
        "!pip install google-cloud-storage\n",
        "from google.colab import auth\n",
        "auth.authenticate_user()\n"
      ],
      "metadata": {
        "id": "CicnsVREdsRQ"
      },
      "execution_count": null,
      "outputs": []
    },
    {
      "cell_type": "markdown",
      "source": [
        "3. Access your dataset like a normal file:"
      ],
      "metadata": {
        "id": "BgN6bVCGeG52"
      }
    },
    {
      "cell_type": "code",
      "source": [
        "from google.cloud import storage\n",
        "client = storage.Client()\n",
        "bucket = client.bucket(\"your-bucket-name\")\n",
        "blob = bucket.blob(\"path/to/your-dataset.zip\")\n",
        "blob.download_to_filename(\"dataset.zip\")\n"
      ],
      "metadata": {
        "id": "ZKMppCtIeKWF"
      },
      "execution_count": null,
      "outputs": []
    },
    {
      "cell_type": "markdown",
      "source": [
        "## ✅ Solution 4: Use Kaggle Datasets (If Available)\n",
        "If your dataset is from Kaggle:\n",
        "\n",
        "1. Get an API token from Kaggle.\n",
        "\n",
        "2. Upload it to Colab:"
      ],
      "metadata": {
        "id": "fqivmJq1eSIG"
      }
    },
    {
      "cell_type": "code",
      "source": [
        "from google.colab import files\n",
        "files.upload()  # Upload kaggle.json\n"
      ],
      "metadata": {
        "id": "3eAEO6lheZMb"
      },
      "execution_count": null,
      "outputs": []
    },
    {
      "cell_type": "markdown",
      "source": [
        "3. Download dataset:"
      ],
      "metadata": {
        "id": "mBSbw96Heedu"
      }
    },
    {
      "cell_type": "code",
      "source": [
        "!mkdir -p ~/.kaggle\n",
        "!cp kaggle.json ~/.kaggle/\n",
        "!chmod 600 ~/.kaggle/kaggle.json\n",
        "!kaggle datasets download -d DATASET_NAME\n"
      ],
      "metadata": {
        "id": "izt9mHeeejCh"
      },
      "execution_count": null,
      "outputs": []
    },
    {
      "cell_type": "markdown",
      "source": [
        "### 🚀 Which method do you prefer?"
      ],
      "metadata": {
        "id": "TeWpn8i2epo_"
      }
    },
    {
      "cell_type": "code",
      "source": [],
      "metadata": {
        "id": "S-oyHoboerZA"
      },
      "execution_count": null,
      "outputs": []
    }
  ]
}